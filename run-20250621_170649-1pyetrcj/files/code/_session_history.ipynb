{
 "cells": [
  {
   "cell_type": "code",
   "execution_count": 1,
   "id": "9a27eb50",
   "metadata": {},
   "outputs": [],
   "source": [
    "!wandb login --relogin"
   ]
  },
  {
   "cell_type": "code",
   "execution_count": 2,
   "id": "997a3806",
   "metadata": {},
   "outputs": [],
   "source": [
    "python -m wandb login"
   ]
  },
  {
   "cell_type": "code",
   "execution_count": 3,
   "id": "5410e023",
   "metadata": {},
   "outputs": [],
   "source": [
    "!python -m wandb login"
   ]
  },
  {
   "cell_type": "code",
   "execution_count": 4,
   "id": "c9856e87",
   "metadata": {},
   "outputs": [],
   "source": [
    "!wandb login 7723fd6ebc31dc6bc46e8b0ab97b48ef68d5df00"
   ]
  },
  {
   "cell_type": "code",
   "execution_count": 5,
   "id": "84200bff",
   "metadata": {},
   "outputs": [],
   "source": [
    "!wandb login 7723fd6ebc31dc6bc46e8b0ab97b48ef68d5df00"
   ]
  },
  {
   "cell_type": "code",
   "execution_count": 6,
   "id": "40d05dc8",
   "metadata": {},
   "outputs": [],
   "source": [
    "!wandb login 7723fd6ebc31dc6bc46e8b0ab97b48ef68d5df00"
   ]
  },
  {
   "cell_type": "code",
   "execution_count": 7,
   "id": "f24e9893",
   "metadata": {},
   "outputs": [],
   "source": [
    "!wandb login 7723fd6ebc31dc6bc46e8b0ab97b48ef68d5df00"
   ]
  },
  {
   "cell_type": "code",
   "execution_count": 8,
   "id": "6137edf3",
   "metadata": {},
   "outputs": [],
   "source": [
    "import wandb\n",
    "\n",
    "wandb.init(project=\"diabetes\")\n",
    "wandb.log({\"accuracy\": 0.92})"
   ]
  },
  {
   "cell_type": "code",
   "execution_count": 9,
   "id": "00d1fe21",
   "metadata": {},
   "outputs": [],
   "source": [
    "!wandb artifact put \\\n",
    "      --name diabetes_decision_tree/raw_data.csv \\\n",
    "      --type raw_data \\\n",
    "      --description \"The raw data from prima indians\" raw_data.csv"
   ]
  },
  {
   "cell_type": "code",
   "execution_count": 10,
   "id": "74859013",
   "metadata": {},
   "outputs": [],
   "source": [
    "import wandb\n",
    "\n",
    "# Start a W&B run\n",
    "wandb.init(project=\"diabetes_decision_tree\")\n",
    "\n",
    "# Create an artifact\n",
    "artifact = wandb.Artifact(\n",
    "    name=\"raw_data.csv\",\n",
    "    type=\"raw_data\",\n",
    "    description=\"The raw data from Pima Indians\"\n",
    ")\n",
    "\n",
    "# Add the file to the artifact\n",
    "artifact.add_file(\"raw_data.csv\")\n",
    "\n",
    "# Log the artifact\n",
    "wandb.log_artifact(artifact)\n",
    "\n",
    "# Finish the run\n",
    "wandb.finish()"
   ]
  },
  {
   "cell_type": "code",
   "execution_count": 11,
   "id": "3e9c7ba2",
   "metadata": {},
   "outputs": [
    {
     "data": {
      "text/html": [],
      "text/plain": [
       "<IPython.core.display.HTML object>"
      ]
     },
     "metadata": {},
     "output_type": "display_data"
    },
    {
     "data": {
      "text/html": [
       "creating run (0.1s)"
      ],
      "text/plain": [
       "<IPython.core.display.HTML object>"
      ]
     },
     "metadata": {},
     "output_type": "display_data"
    },
    {
     "data": {
      "text/html": [
       "creating run (0.1s)"
      ],
      "text/plain": [
       "<IPython.core.display.HTML object>"
      ]
     },
     "metadata": {},
     "output_type": "display_data"
    },
    {
     "data": {
      "text/html": [
       "Tracking run with wandb version 0.20.1"
      ],
      "text/plain": [
       "<IPython.core.display.HTML object>"
      ]
     },
     "metadata": {},
     "output_type": "display_data"
    },
    {
     "data": {
      "text/html": [
       "Run data is saved locally in <code>C:\\Users\\Janet\\wandb\\run-20250621_170649-1pyetrcj</code>"
      ],
      "text/plain": [
       "<IPython.core.display.HTML object>"
      ]
     },
     "metadata": {},
     "output_type": "display_data"
    },
    {
     "data": {
      "text/html": [
       "Syncing run <strong><a href='https://wandb.ai/2107301-kca-university/diabetes_decision_tree/runs/1pyetrcj' target=\"_blank\">swept-cloud-22</a></strong> to <a href='https://wandb.ai/2107301-kca-university/diabetes_decision_tree' target=\"_blank\">Weights & Biases</a> (<a href='https://wandb.me/developer-guide' target=\"_blank\">docs</a>)<br>"
      ],
      "text/plain": [
       "<IPython.core.display.HTML object>"
      ]
     },
     "metadata": {},
     "output_type": "display_data"
    },
    {
     "data": {
      "text/html": [
       " View project at <a href='https://wandb.ai/2107301-kca-university/diabetes_decision_tree' target=\"_blank\">https://wandb.ai/2107301-kca-university/diabetes_decision_tree</a>"
      ],
      "text/plain": [
       "<IPython.core.display.HTML object>"
      ]
     },
     "metadata": {},
     "output_type": "display_data"
    },
    {
     "data": {
      "text/html": [
       " View run at <a href='https://wandb.ai/2107301-kca-university/diabetes_decision_tree/runs/1pyetrcj' target=\"_blank\">https://wandb.ai/2107301-kca-university/diabetes_decision_tree/runs/1pyetrcj</a>"
      ],
      "text/plain": [
       "<IPython.core.display.HTML object>"
      ]
     },
     "metadata": {},
     "output_type": "display_data"
    }
   ],
   "source": [
    "run = wandb.init(project=\"diabetes_decision_tree\", save_code=True)\n",
    "\n",
    "# donwload the latest version of artifact raw_data.csv\n",
    "artifact = run.use_artifact(\"diabetes_decision_tree/raw_data.csv:latest\")\n",
    "\n",
    "# create a dataframe from the artifact\n",
    "df = pd.read_csv(artifact.file())\n",
    "\n",
    "# use profile report for automatic EDA\n",
    "ProfileReport(df, title=\"Pandas Profiling Report\", explorative=True)"
   ]
  },
  {
   "cell_type": "code",
   "execution_count": 12,
   "id": "beadfea3",
   "metadata": {},
   "outputs": [],
   "source": [
    "run = wandb.init(project=\"diabetes_decision_tree\", save_code=True)\n",
    "\n",
    "# donwload the latest version of artifact raw_data.csv\n",
    "artifact = run.use_artifact(\"diabetes_decision_tree/raw_data.csv:latest\")\n",
    "\n",
    "# create a dataframe from the artifact\n",
    "import pandas as pd\n",
    "df = pd.read_csv(artifact.file())\n",
    "\n",
    "# use profile report for automatic EDA\n",
    "ProfileReport(df, title=\"Pandas Profiling Report\", explorative=True)"
   ]
  }
 ],
 "metadata": {
  "kernelspec": {
   "display_name": "Python 3",
   "language": "python",
   "name": "python3"
  },
  "language_info": {
   "codemirror_mode": {
    "name": "ipython",
    "version": 3
   },
   "file_extension": ".py",
   "mimetype": "text/x-python",
   "name": "python",
   "nbconvert_exporter": "python",
   "pygments_lexer": "ipython3",
   "version": "3.12.7"
  }
 },
 "nbformat": 4,
 "nbformat_minor": 5
}
