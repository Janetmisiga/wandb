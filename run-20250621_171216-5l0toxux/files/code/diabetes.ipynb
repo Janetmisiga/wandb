{
 "cells": [
  {
   "cell_type": "code",
   "execution_count": 5,
   "id": "ff4fbdc2-cbf0-4579-baa5-1ba1fe9049ad",
   "metadata": {},
   "outputs": [
    {
     "name": "stdout",
     "output_type": "stream",
     "text": [
      "Defaulting to user installation because normal site-packages is not writeable\n",
      "Requirement already satisfied: wandb in c:\\users\\janet\\appdata\\roaming\\python\\python312\\site-packages (0.20.1)\n",
      "Requirement already satisfied: click!=8.0.0,>=7.1 in c:\\programdata\\anaconda3\\lib\\site-packages (from wandb) (8.1.7)\n",
      "Requirement already satisfied: gitpython!=3.1.29,>=1.0.0 in c:\\programdata\\anaconda3\\lib\\site-packages (from wandb) (3.1.43)\n",
      "Requirement already satisfied: packaging in c:\\programdata\\anaconda3\\lib\\site-packages (from wandb) (24.1)\n",
      "Requirement already satisfied: platformdirs in c:\\programdata\\anaconda3\\lib\\site-packages (from wandb) (3.10.0)\n",
      "Requirement already satisfied: protobuf!=4.21.0,!=5.28.0,<7,>=3.19.0 in c:\\programdata\\anaconda3\\lib\\site-packages (from wandb) (4.25.3)\n",
      "Requirement already satisfied: psutil>=5.0.0 in c:\\programdata\\anaconda3\\lib\\site-packages (from wandb) (5.9.0)\n",
      "Requirement already satisfied: pydantic<3 in c:\\programdata\\anaconda3\\lib\\site-packages (from wandb) (2.8.2)\n",
      "Requirement already satisfied: pyyaml in c:\\programdata\\anaconda3\\lib\\site-packages (from wandb) (6.0.1)\n",
      "Requirement already satisfied: requests<3,>=2.0.0 in c:\\programdata\\anaconda3\\lib\\site-packages (from wandb) (2.32.3)\n",
      "Requirement already satisfied: sentry-sdk>=2.0.0 in c:\\users\\janet\\appdata\\roaming\\python\\python312\\site-packages (from wandb) (2.30.0)\n",
      "Requirement already satisfied: setproctitle in c:\\users\\janet\\appdata\\roaming\\python\\python312\\site-packages (from wandb) (1.3.6)\n",
      "Requirement already satisfied: typing-extensions<5,>=4.8 in c:\\programdata\\anaconda3\\lib\\site-packages (from wandb) (4.11.0)\n",
      "Requirement already satisfied: colorama in c:\\programdata\\anaconda3\\lib\\site-packages (from click!=8.0.0,>=7.1->wandb) (0.4.6)\n",
      "Requirement already satisfied: gitdb<5,>=4.0.1 in c:\\programdata\\anaconda3\\lib\\site-packages (from gitpython!=3.1.29,>=1.0.0->wandb) (4.0.7)\n",
      "Requirement already satisfied: annotated-types>=0.4.0 in c:\\programdata\\anaconda3\\lib\\site-packages (from pydantic<3->wandb) (0.6.0)\n",
      "Requirement already satisfied: pydantic-core==2.20.1 in c:\\programdata\\anaconda3\\lib\\site-packages (from pydantic<3->wandb) (2.20.1)\n",
      "Requirement already satisfied: charset-normalizer<4,>=2 in c:\\programdata\\anaconda3\\lib\\site-packages (from requests<3,>=2.0.0->wandb) (3.3.2)\n",
      "Requirement already satisfied: idna<4,>=2.5 in c:\\programdata\\anaconda3\\lib\\site-packages (from requests<3,>=2.0.0->wandb) (3.7)\n",
      "Requirement already satisfied: urllib3<3,>=1.21.1 in c:\\programdata\\anaconda3\\lib\\site-packages (from requests<3,>=2.0.0->wandb) (2.2.3)\n",
      "Requirement already satisfied: certifi>=2017.4.17 in c:\\programdata\\anaconda3\\lib\\site-packages (from requests<3,>=2.0.0->wandb) (2024.8.30)\n",
      "Requirement already satisfied: smmap<5,>=3.0.1 in c:\\programdata\\anaconda3\\lib\\site-packages (from gitdb<5,>=4.0.1->gitpython!=3.1.29,>=1.0.0->wandb) (4.0.0)\n",
      "Defaulting to user installation because normal site-packages is not writeable\n",
      "Requirement already satisfied: pandas_profiling in c:\\users\\janet\\appdata\\roaming\\python\\python312\\site-packages (3.2.0)\n",
      "Requirement already satisfied: joblib~=1.1.0 in c:\\users\\janet\\appdata\\roaming\\python\\python312\\site-packages (from pandas_profiling) (1.1.1)\n",
      "Requirement already satisfied: scipy>=1.4.1 in c:\\programdata\\anaconda3\\lib\\site-packages (from pandas_profiling) (1.13.1)\n",
      "Requirement already satisfied: pandas!=1.0.0,!=1.0.1,!=1.0.2,!=1.1.0,>=0.25.3 in c:\\programdata\\anaconda3\\lib\\site-packages (from pandas_profiling) (2.2.2)\n",
      "Requirement already satisfied: matplotlib>=3.2.0 in c:\\programdata\\anaconda3\\lib\\site-packages (from pandas_profiling) (3.9.2)\n",
      "Requirement already satisfied: pydantic>=1.8.1 in c:\\programdata\\anaconda3\\lib\\site-packages (from pandas_profiling) (2.8.2)\n",
      "Requirement already satisfied: PyYAML>=5.0.0 in c:\\programdata\\anaconda3\\lib\\site-packages (from pandas_profiling) (6.0.1)\n",
      "Requirement already satisfied: jinja2>=2.11.1 in c:\\programdata\\anaconda3\\lib\\site-packages (from pandas_profiling) (3.1.4)\n",
      "Requirement already satisfied: markupsafe~=2.1.1 in c:\\programdata\\anaconda3\\lib\\site-packages (from pandas_profiling) (2.1.3)\n",
      "Requirement already satisfied: visions==0.7.4 in c:\\users\\janet\\appdata\\roaming\\python\\python312\\site-packages (from visions[type_image_path]==0.7.4->pandas_profiling) (0.7.4)\n",
      "Requirement already satisfied: numpy>=1.16.0 in c:\\programdata\\anaconda3\\lib\\site-packages (from pandas_profiling) (1.26.4)\n",
      "Requirement already satisfied: htmlmin>=0.1.12 in c:\\users\\janet\\appdata\\roaming\\python\\python312\\site-packages (from pandas_profiling) (0.1.12)\n",
      "Requirement already satisfied: missingno>=0.4.2 in c:\\users\\janet\\appdata\\roaming\\python\\python312\\site-packages (from pandas_profiling) (0.5.2)\n",
      "Requirement already satisfied: phik>=0.11.1 in c:\\users\\janet\\appdata\\roaming\\python\\python312\\site-packages (from pandas_profiling) (0.12.4)\n",
      "Requirement already satisfied: tangled-up-in-unicode==0.2.0 in c:\\users\\janet\\appdata\\roaming\\python\\python312\\site-packages (from pandas_profiling) (0.2.0)\n",
      "Requirement already satisfied: requests>=2.24.0 in c:\\programdata\\anaconda3\\lib\\site-packages (from pandas_profiling) (2.32.3)\n",
      "Requirement already satisfied: tqdm>=4.48.2 in c:\\programdata\\anaconda3\\lib\\site-packages (from pandas_profiling) (4.66.5)\n",
      "Requirement already satisfied: seaborn>=0.10.1 in c:\\programdata\\anaconda3\\lib\\site-packages (from pandas_profiling) (0.13.2)\n",
      "Requirement already satisfied: multimethod>=1.4 in c:\\users\\janet\\appdata\\roaming\\python\\python312\\site-packages (from pandas_profiling) (2.0)\n",
      "Requirement already satisfied: attrs>=19.3.0 in c:\\programdata\\anaconda3\\lib\\site-packages (from visions==0.7.4->visions[type_image_path]==0.7.4->pandas_profiling) (23.1.0)\n",
      "Requirement already satisfied: networkx>=2.4 in c:\\programdata\\anaconda3\\lib\\site-packages (from visions==0.7.4->visions[type_image_path]==0.7.4->pandas_profiling) (3.3)\n",
      "Requirement already satisfied: imagehash in c:\\users\\janet\\appdata\\roaming\\python\\python312\\site-packages (from visions[type_image_path]==0.7.4->pandas_profiling) (4.3.2)\n",
      "Requirement already satisfied: Pillow in c:\\programdata\\anaconda3\\lib\\site-packages (from visions[type_image_path]==0.7.4->pandas_profiling) (10.4.0)\n",
      "Requirement already satisfied: contourpy>=1.0.1 in c:\\programdata\\anaconda3\\lib\\site-packages (from matplotlib>=3.2.0->pandas_profiling) (1.2.0)\n",
      "Requirement already satisfied: cycler>=0.10 in c:\\programdata\\anaconda3\\lib\\site-packages (from matplotlib>=3.2.0->pandas_profiling) (0.11.0)\n",
      "Requirement already satisfied: fonttools>=4.22.0 in c:\\programdata\\anaconda3\\lib\\site-packages (from matplotlib>=3.2.0->pandas_profiling) (4.51.0)\n",
      "Requirement already satisfied: kiwisolver>=1.3.1 in c:\\programdata\\anaconda3\\lib\\site-packages (from matplotlib>=3.2.0->pandas_profiling) (1.4.4)\n",
      "Requirement already satisfied: packaging>=20.0 in c:\\programdata\\anaconda3\\lib\\site-packages (from matplotlib>=3.2.0->pandas_profiling) (24.1)\n",
      "Requirement already satisfied: pyparsing>=2.3.1 in c:\\programdata\\anaconda3\\lib\\site-packages (from matplotlib>=3.2.0->pandas_profiling) (3.1.2)\n",
      "Requirement already satisfied: python-dateutil>=2.7 in c:\\programdata\\anaconda3\\lib\\site-packages (from matplotlib>=3.2.0->pandas_profiling) (2.9.0.post0)\n",
      "Requirement already satisfied: pytz>=2020.1 in c:\\programdata\\anaconda3\\lib\\site-packages (from pandas!=1.0.0,!=1.0.1,!=1.0.2,!=1.1.0,>=0.25.3->pandas_profiling) (2024.1)\n",
      "Requirement already satisfied: tzdata>=2022.7 in c:\\programdata\\anaconda3\\lib\\site-packages (from pandas!=1.0.0,!=1.0.1,!=1.0.2,!=1.1.0,>=0.25.3->pandas_profiling) (2023.3)\n",
      "Requirement already satisfied: annotated-types>=0.4.0 in c:\\programdata\\anaconda3\\lib\\site-packages (from pydantic>=1.8.1->pandas_profiling) (0.6.0)\n",
      "Requirement already satisfied: pydantic-core==2.20.1 in c:\\programdata\\anaconda3\\lib\\site-packages (from pydantic>=1.8.1->pandas_profiling) (2.20.1)\n",
      "Requirement already satisfied: typing-extensions>=4.6.1 in c:\\programdata\\anaconda3\\lib\\site-packages (from pydantic>=1.8.1->pandas_profiling) (4.11.0)\n",
      "Requirement already satisfied: charset-normalizer<4,>=2 in c:\\programdata\\anaconda3\\lib\\site-packages (from requests>=2.24.0->pandas_profiling) (3.3.2)\n",
      "Requirement already satisfied: idna<4,>=2.5 in c:\\programdata\\anaconda3\\lib\\site-packages (from requests>=2.24.0->pandas_profiling) (3.7)\n",
      "Requirement already satisfied: urllib3<3,>=1.21.1 in c:\\programdata\\anaconda3\\lib\\site-packages (from requests>=2.24.0->pandas_profiling) (2.2.3)\n",
      "Requirement already satisfied: certifi>=2017.4.17 in c:\\programdata\\anaconda3\\lib\\site-packages (from requests>=2.24.0->pandas_profiling) (2024.8.30)\n",
      "Requirement already satisfied: colorama in c:\\programdata\\anaconda3\\lib\\site-packages (from tqdm>=4.48.2->pandas_profiling) (0.4.6)\n",
      "Requirement already satisfied: six>=1.5 in c:\\programdata\\anaconda3\\lib\\site-packages (from python-dateutil>=2.7->matplotlib>=3.2.0->pandas_profiling) (1.16.0)\n",
      "Requirement already satisfied: PyWavelets in c:\\programdata\\anaconda3\\lib\\site-packages (from imagehash->visions[type_image_path]==0.7.4->pandas_profiling) (1.7.0)\n",
      "Defaulting to user installation because normal site-packages is not writeable\n",
      "Requirement already satisfied: numba in c:\\programdata\\anaconda3\\lib\\site-packages (0.60.0)\n",
      "Requirement already satisfied: llvmlite<0.44,>=0.43.0dev0 in c:\\programdata\\anaconda3\\lib\\site-packages (from numba) (0.43.0)\n",
      "Requirement already satisfied: numpy<2.1,>=1.22 in c:\\programdata\\anaconda3\\lib\\site-packages (from numba) (1.26.4)\n"
     ]
    }
   ],
   "source": [
    "!pip install wandb\n",
    "!pip install pandas_profiling\n",
    "!pip install numba"
   ]
  },
  {
   "cell_type": "code",
   "execution_count": 9,
   "id": "7161f36e-bfcc-42d0-b401-9225c23e39f7",
   "metadata": {},
   "outputs": [
    {
     "name": "stdout",
     "output_type": "stream",
     "text": [
      "   Pregnancies  Glucose  BloodPressure  SkinThickness  Insulin   BMI  \\\n",
      "0            6      148             72             35        0  33.6   \n",
      "1            1       85             66             29        0  26.6   \n",
      "2            8      183             64              0        0  23.3   \n",
      "3            1       89             66             23       94  28.1   \n",
      "4            0      137             40             35      168  43.1   \n",
      "\n",
      "   DiabetesPedigreeFunction  Age  Outcome  \n",
      "0                     0.627   50        1  \n",
      "1                     0.351   31        0  \n",
      "2                     0.672   32        1  \n",
      "3                     0.167   21        0  \n",
      "4                     2.288   33        1  \n"
     ]
    }
   ],
   "source": [
    "import pandas as pd\n",
    "\n",
    "df = pd.read_csv(r\"C:\\Users\\Janet\\Downloads\\diabetes.csv\")\n",
    "\n",
    "print(df.head())\n"
   ]
  },
  {
   "cell_type": "code",
   "execution_count": 10,
   "id": "fe152e7a-aa79-4e0c-8a28-31e64e5f9ea0",
   "metadata": {},
   "outputs": [],
   "source": [
    "df.to_csv(\"raw_data.csv\",index=False)"
   ]
  },
  {
   "cell_type": "code",
   "execution_count": 7,
   "id": "99a4d26c-f576-48b3-a5d6-5664b4f03378",
   "metadata": {},
   "outputs": [
    {
     "name": "stderr",
     "output_type": "stream",
     "text": [
      "'wandb' is not recognized as an internal or external command,\n",
      "operable program or batch file.\n"
     ]
    }
   ],
   "source": [
    "!wandb login 7723fd6ebc31dc6bc46e8b0ab97b48ef68d5df00\n",
    "\n"
   ]
  },
  {
   "cell_type": "code",
   "execution_count": 8,
   "id": "422a5cf0-186e-4ce7-b44b-20ede88e19d7",
   "metadata": {},
   "outputs": [
    {
     "name": "stderr",
     "output_type": "stream",
     "text": [
      "wandb: Currently logged in as: 2409463 (2107301-kca-university) to https://api.wandb.ai. Use `wandb login --relogin` to force relogin\n"
     ]
    },
    {
     "data": {
      "text/html": [
       "creating run (1.1s)"
      ],
      "text/plain": [
       "<IPython.core.display.HTML object>"
      ]
     },
     "metadata": {},
     "output_type": "display_data"
    },
    {
     "data": {
      "text/html": [
       "Tracking run with wandb version 0.20.1"
      ],
      "text/plain": [
       "<IPython.core.display.HTML object>"
      ]
     },
     "metadata": {},
     "output_type": "display_data"
    },
    {
     "data": {
      "text/html": [
       "Run data is saved locally in <code>C:\\Users\\Janet\\wandb\\run-20250621_151050-eeu0lrk8</code>"
      ],
      "text/plain": [
       "<IPython.core.display.HTML object>"
      ]
     },
     "metadata": {},
     "output_type": "display_data"
    },
    {
     "data": {
      "text/html": [
       "Syncing run <strong><a href='https://wandb.ai/2107301-kca-university/diabetes/runs/eeu0lrk8' target=\"_blank\">dulcet-terrain-1</a></strong> to <a href='https://wandb.ai/2107301-kca-university/diabetes' target=\"_blank\">Weights & Biases</a> (<a href='https://wandb.me/developer-guide' target=\"_blank\">docs</a>)<br>"
      ],
      "text/plain": [
       "<IPython.core.display.HTML object>"
      ]
     },
     "metadata": {},
     "output_type": "display_data"
    },
    {
     "data": {
      "text/html": [
       " View project at <a href='https://wandb.ai/2107301-kca-university/diabetes' target=\"_blank\">https://wandb.ai/2107301-kca-university/diabetes</a>"
      ],
      "text/plain": [
       "<IPython.core.display.HTML object>"
      ]
     },
     "metadata": {},
     "output_type": "display_data"
    },
    {
     "data": {
      "text/html": [
       " View run at <a href='https://wandb.ai/2107301-kca-university/diabetes/runs/eeu0lrk8' target=\"_blank\">https://wandb.ai/2107301-kca-university/diabetes/runs/eeu0lrk8</a>"
      ],
      "text/plain": [
       "<IPython.core.display.HTML object>"
      ]
     },
     "metadata": {},
     "output_type": "display_data"
    }
   ],
   "source": [
    "import wandb\n",
    "\n",
    "wandb.init(project=\"diabetes\")\n",
    "wandb.log({\"accuracy\": 0.92})\n"
   ]
  },
  {
   "cell_type": "code",
   "execution_count": 10,
   "id": "2539a5b6-9af7-43b1-a7a8-040133f814fc",
   "metadata": {},
   "outputs": [
    {
     "data": {
      "text/html": [
       "Finishing previous runs because reinit is set to 'default'."
      ],
      "text/plain": [
       "<IPython.core.display.HTML object>"
      ]
     },
     "metadata": {},
     "output_type": "display_data"
    },
    {
     "data": {
      "text/html": [],
      "text/plain": [
       "<IPython.core.display.HTML object>"
      ]
     },
     "metadata": {},
     "output_type": "display_data"
    },
    {
     "data": {
      "text/html": [
       "<br>    <style><br>        .wandb-row {<br>            display: flex;<br>            flex-direction: row;<br>            flex-wrap: wrap;<br>            justify-content: flex-start;<br>            width: 100%;<br>        }<br>        .wandb-col {<br>            display: flex;<br>            flex-direction: column;<br>            flex-basis: 100%;<br>            flex: 1;<br>            padding: 10px;<br>        }<br>    </style><br><div class=\"wandb-row\"><div class=\"wandb-col\"><h3>Run history:</h3><br/><table class=\"wandb\"><tr><td>accuracy</td><td>▁</td></tr></table><br/></div><div class=\"wandb-col\"><h3>Run summary:</h3><br/><table class=\"wandb\"><tr><td>accuracy</td><td>0.92</td></tr></table><br/></div></div>"
      ],
      "text/plain": [
       "<IPython.core.display.HTML object>"
      ]
     },
     "metadata": {},
     "output_type": "display_data"
    },
    {
     "data": {
      "text/html": [
       " View run <strong style=\"color:#cdcd00\">dulcet-terrain-1</strong> at: <a href='https://wandb.ai/2107301-kca-university/diabetes/runs/eeu0lrk8' target=\"_blank\">https://wandb.ai/2107301-kca-university/diabetes/runs/eeu0lrk8</a><br> View project at: <a href='https://wandb.ai/2107301-kca-university/diabetes' target=\"_blank\">https://wandb.ai/2107301-kca-university/diabetes</a><br>Synced 5 W&B file(s), 0 media file(s), 0 artifact file(s) and 0 other file(s)"
      ],
      "text/plain": [
       "<IPython.core.display.HTML object>"
      ]
     },
     "metadata": {},
     "output_type": "display_data"
    },
    {
     "data": {
      "text/html": [
       "Find logs at: <code>.\\wandb\\run-20250621_151050-eeu0lrk8\\logs</code>"
      ],
      "text/plain": [
       "<IPython.core.display.HTML object>"
      ]
     },
     "metadata": {},
     "output_type": "display_data"
    },
    {
     "data": {
      "text/html": [
       "Waiting for wandb.init()..."
      ],
      "text/plain": [
       "<IPython.core.display.HTML object>"
      ]
     },
     "metadata": {},
     "output_type": "display_data"
    },
    {
     "data": {
      "text/html": [
       "Tracking run with wandb version 0.20.1"
      ],
      "text/plain": [
       "<IPython.core.display.HTML object>"
      ]
     },
     "metadata": {},
     "output_type": "display_data"
    },
    {
     "data": {
      "text/html": [
       "Run data is saved locally in <code>C:\\Users\\Janet\\wandb\\run-20250621_151747-god23aw9</code>"
      ],
      "text/plain": [
       "<IPython.core.display.HTML object>"
      ]
     },
     "metadata": {},
     "output_type": "display_data"
    },
    {
     "data": {
      "text/html": [
       "Syncing run <strong><a href='https://wandb.ai/2107301-kca-university/diabetes_decision_tree/runs/god23aw9' target=\"_blank\">clean-wave-19</a></strong> to <a href='https://wandb.ai/2107301-kca-university/diabetes_decision_tree' target=\"_blank\">Weights & Biases</a> (<a href='https://wandb.me/developer-guide' target=\"_blank\">docs</a>)<br>"
      ],
      "text/plain": [
       "<IPython.core.display.HTML object>"
      ]
     },
     "metadata": {},
     "output_type": "display_data"
    },
    {
     "data": {
      "text/html": [
       " View project at <a href='https://wandb.ai/2107301-kca-university/diabetes_decision_tree' target=\"_blank\">https://wandb.ai/2107301-kca-university/diabetes_decision_tree</a>"
      ],
      "text/plain": [
       "<IPython.core.display.HTML object>"
      ]
     },
     "metadata": {},
     "output_type": "display_data"
    },
    {
     "data": {
      "text/html": [
       " View run at <a href='https://wandb.ai/2107301-kca-university/diabetes_decision_tree/runs/god23aw9' target=\"_blank\">https://wandb.ai/2107301-kca-university/diabetes_decision_tree/runs/god23aw9</a>"
      ],
      "text/plain": [
       "<IPython.core.display.HTML object>"
      ]
     },
     "metadata": {},
     "output_type": "display_data"
    },
    {
     "data": {
      "text/html": [],
      "text/plain": [
       "<IPython.core.display.HTML object>"
      ]
     },
     "metadata": {},
     "output_type": "display_data"
    },
    {
     "data": {
      "text/html": [
       " View run <strong style=\"color:#cdcd00\">clean-wave-19</strong> at: <a href='https://wandb.ai/2107301-kca-university/diabetes_decision_tree/runs/god23aw9' target=\"_blank\">https://wandb.ai/2107301-kca-university/diabetes_decision_tree/runs/god23aw9</a><br> View project at: <a href='https://wandb.ai/2107301-kca-university/diabetes_decision_tree' target=\"_blank\">https://wandb.ai/2107301-kca-university/diabetes_decision_tree</a><br>Synced 5 W&B file(s), 0 media file(s), 0 artifact file(s) and 0 other file(s)"
      ],
      "text/plain": [
       "<IPython.core.display.HTML object>"
      ]
     },
     "metadata": {},
     "output_type": "display_data"
    },
    {
     "data": {
      "text/html": [
       "Find logs at: <code>.\\wandb\\run-20250621_151747-god23aw9\\logs</code>"
      ],
      "text/plain": [
       "<IPython.core.display.HTML object>"
      ]
     },
     "metadata": {},
     "output_type": "display_data"
    }
   ],
   "source": [
    "import wandb\n",
    "\n",
    "# Start a W&B run\n",
    "wandb.init(project=\"diabetes_decision_tree\")\n",
    "\n",
    "# Create an artifact\n",
    "artifact = wandb.Artifact(\n",
    "    name=\"raw_data.csv\",\n",
    "    type=\"raw_data\",\n",
    "    description=\"The raw data from Pima Indians\"\n",
    ")\n",
    "\n",
    "# Add the file to the artifact\n",
    "artifact.add_file(\"raw_data.csv\")\n",
    "\n",
    "# Log the artifact\n",
    "wandb.log_artifact(artifact)\n",
    "\n",
    "# Finish the run\n",
    "wandb.finish()\n"
   ]
  },
  {
   "cell_type": "code",
   "execution_count": null,
   "id": "33e1531d-26c0-46ef-b615-6cb66248a224",
   "metadata": {},
   "outputs": [
    {
     "data": {
      "text/html": [
       "Finishing previous runs because reinit is set to 'default'."
      ],
      "text/plain": [
       "<IPython.core.display.HTML object>"
      ]
     },
     "metadata": {},
     "output_type": "display_data"
    },
    {
     "data": {
      "text/html": [
       "uploading artifact source-diabetes_decision_tree-diabetes.ipynb (7.1s)"
      ],
      "text/plain": [
       "<IPython.core.display.HTML object>"
      ]
     },
     "metadata": {},
     "output_type": "display_data"
    }
   ],
   "source": [
    "run = wandb.init(project=\"diabetes_decision_tree\", save_code=True)\n",
    "\n",
    "# donwload the latest version of artifact raw_data.csv\n",
    "artifact = run.use_artifact(\"diabetes_decision_tree/raw_data.csv:latest\")\n",
    "\n",
    "# create a dataframe from the artifact\n",
    "import pandas as pd\n",
    "df = pd.read_csv(artifact.file())\n",
    "\n",
    "# use profile report for automatic EDA\n",
    "ProfileReport(df, title=\"Pandas Profiling Report\", explorative=True)"
   ]
  },
  {
   "cell_type": "code",
   "execution_count": null,
   "id": "98bced4e-2c47-4e43-ac1d-2c98bd52db8b",
   "metadata": {},
   "outputs": [],
   "source": []
  }
 ],
 "metadata": {
  "kernelspec": {
   "display_name": "Python 3 (ipykernel)",
   "language": "python",
   "name": "python3"
  },
  "language_info": {
   "codemirror_mode": {
    "name": "ipython",
    "version": 3
   },
   "file_extension": ".py",
   "mimetype": "text/x-python",
   "name": "python",
   "nbconvert_exporter": "python",
   "pygments_lexer": "ipython3",
   "version": "3.12.7"
  }
 },
 "nbformat": 4,
 "nbformat_minor": 5
}
