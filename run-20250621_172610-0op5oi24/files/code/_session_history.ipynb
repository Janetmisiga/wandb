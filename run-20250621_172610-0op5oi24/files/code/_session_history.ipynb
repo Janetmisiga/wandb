{
 "cells": [
  {
   "cell_type": "code",
   "execution_count": 1,
   "id": "e6600a5e",
   "metadata": {},
   "outputs": [],
   "source": [
    "!wandb login --relogin"
   ]
  },
  {
   "cell_type": "code",
   "execution_count": 2,
   "id": "199b8d35",
   "metadata": {},
   "outputs": [],
   "source": [
    "python -m wandb login"
   ]
  },
  {
   "cell_type": "code",
   "execution_count": 3,
   "id": "2157fd7c",
   "metadata": {},
   "outputs": [],
   "source": [
    "!python -m wandb login"
   ]
  },
  {
   "cell_type": "code",
   "execution_count": 4,
   "id": "59afdb41",
   "metadata": {},
   "outputs": [],
   "source": [
    "!wandb login 7723fd6ebc31dc6bc46e8b0ab97b48ef68d5df00"
   ]
  },
  {
   "cell_type": "code",
   "execution_count": 5,
   "id": "900d4e56",
   "metadata": {},
   "outputs": [],
   "source": [
    "!wandb login 7723fd6ebc31dc6bc46e8b0ab97b48ef68d5df00"
   ]
  },
  {
   "cell_type": "code",
   "execution_count": 6,
   "id": "797c5c80",
   "metadata": {},
   "outputs": [],
   "source": [
    "!wandb login 7723fd6ebc31dc6bc46e8b0ab97b48ef68d5df00"
   ]
  },
  {
   "cell_type": "code",
   "execution_count": 7,
   "id": "4c2a9ef9",
   "metadata": {},
   "outputs": [],
   "source": [
    "!wandb login 7723fd6ebc31dc6bc46e8b0ab97b48ef68d5df00"
   ]
  },
  {
   "cell_type": "code",
   "execution_count": 8,
   "id": "134aa5ae",
   "metadata": {},
   "outputs": [],
   "source": [
    "import wandb\n",
    "\n",
    "wandb.init(project=\"diabetes\")\n",
    "wandb.log({\"accuracy\": 0.92})"
   ]
  },
  {
   "cell_type": "code",
   "execution_count": 9,
   "id": "d293ee24",
   "metadata": {},
   "outputs": [],
   "source": [
    "!wandb artifact put \\\n",
    "      --name diabetes_decision_tree/raw_data.csv \\\n",
    "      --type raw_data \\\n",
    "      --description \"The raw data from prima indians\" raw_data.csv"
   ]
  },
  {
   "cell_type": "code",
   "execution_count": 10,
   "id": "ad042f7a",
   "metadata": {},
   "outputs": [],
   "source": [
    "import wandb\n",
    "\n",
    "# Start a W&B run\n",
    "wandb.init(project=\"diabetes_decision_tree\")\n",
    "\n",
    "# Create an artifact\n",
    "artifact = wandb.Artifact(\n",
    "    name=\"raw_data.csv\",\n",
    "    type=\"raw_data\",\n",
    "    description=\"The raw data from Pima Indians\"\n",
    ")\n",
    "\n",
    "# Add the file to the artifact\n",
    "artifact.add_file(\"raw_data.csv\")\n",
    "\n",
    "# Log the artifact\n",
    "wandb.log_artifact(artifact)\n",
    "\n",
    "# Finish the run\n",
    "wandb.finish()"
   ]
  },
  {
   "cell_type": "code",
   "execution_count": 11,
   "id": "f1ab98dd",
   "metadata": {},
   "outputs": [],
   "source": [
    "run = wandb.init(project=\"diabetes_decision_tree\", save_code=True)\n",
    "\n",
    "# donwload the latest version of artifact raw_data.csv\n",
    "artifact = run.use_artifact(\"diabetes_decision_tree/raw_data.csv:latest\")\n",
    "\n",
    "# create a dataframe from the artifact\n",
    "df = pd.read_csv(artifact.file())\n",
    "\n",
    "# use profile report for automatic EDA\n",
    "ProfileReport(df, title=\"Pandas Profiling Report\", explorative=True)"
   ]
  },
  {
   "cell_type": "code",
   "execution_count": 12,
   "id": "388daa29",
   "metadata": {},
   "outputs": [],
   "source": [
    "run = wandb.init(project=\"diabetes_decision_tree\", save_code=True)\n",
    "\n",
    "# donwload the latest version of artifact raw_data.csv\n",
    "artifact = run.use_artifact(\"diabetes_decision_tree/raw_data.csv:latest\")\n",
    "\n",
    "# create a dataframe from the artifact\n",
    "import pandas as pd\n",
    "df = pd.read_csv(artifact.file())\n",
    "\n",
    "# use profile report for automatic EDA\n",
    "ProfileReport(df, title=\"Pandas Profiling Report\", explorative=True)"
   ]
  },
  {
   "cell_type": "code",
   "execution_count": 13,
   "id": "8935bd72",
   "metadata": {},
   "outputs": [],
   "source": [
    "import wandb\n",
    "import pandas as pd\n",
    "from ydata_profiling import ProfileReport\n",
    "\n",
    "# Start a run\n",
    "run = wandb.init(project=\"diabetes_decision_tree\", save_code=True)\n",
    "\n",
    "# Download the artifact\n",
    "artifact = run.use_artifact(\"diabetes_decision_tree/raw_data.csv:latest\")\n",
    "artifact_dir = artifact.download()\n",
    "\n",
    "# Read the actual CSV file from the downloaded directory\n",
    "df = pd.read_csv(f\"{artifact_dir}/raw_data.csv\")\n",
    "\n",
    "# Generate the profiling report\n",
    "profile = ProfileReport(df, title=\"Pandas Profiling Report\", explorative=True)\n",
    "profile.to_file(\"diabetes_profile_report.html\")\n",
    "\n",
    "# Finish the run\n",
    "run.finish()"
   ]
  },
  {
   "cell_type": "code",
   "execution_count": 14,
   "id": "46f288d2",
   "metadata": {},
   "outputs": [],
   "source": [
    "!pip install ydata-profiling"
   ]
  },
  {
   "cell_type": "code",
   "execution_count": 15,
   "id": "02ade7e3",
   "metadata": {},
   "outputs": [],
   "source": [
    "from ydata_profiling import ProfileReport"
   ]
  },
  {
   "cell_type": "code",
   "execution_count": 16,
   "id": "62390338",
   "metadata": {},
   "outputs": [
    {
     "data": {
      "text/html": [
       "Finishing previous runs because reinit is set to 'default'."
      ],
      "text/plain": [
       "<IPython.core.display.HTML object>"
      ]
     },
     "metadata": {},
     "output_type": "display_data"
    },
    {
     "data": {
      "text/html": [],
      "text/plain": [
       "<IPython.core.display.HTML object>"
      ]
     },
     "metadata": {},
     "output_type": "display_data"
    },
    {
     "data": {
      "text/html": [
       "uploading output.log (0.0s)"
      ],
      "text/plain": [
       "<IPython.core.display.HTML object>"
      ]
     },
     "metadata": {},
     "output_type": "display_data"
    },
    {
     "data": {
      "text/html": [
       "uploading output.log (0.0s)"
      ],
      "text/plain": [
       "<IPython.core.display.HTML object>"
      ]
     },
     "metadata": {},
     "output_type": "display_data"
    },
    {
     "data": {
      "text/html": [
       "uploading output.log (0.0s)"
      ],
      "text/plain": [
       "<IPython.core.display.HTML object>"
      ]
     },
     "metadata": {},
     "output_type": "display_data"
    },
    {
     "data": {
      "text/html": [
       "uploading output.log (0.0s)"
      ],
      "text/plain": [
       "<IPython.core.display.HTML object>"
      ]
     },
     "metadata": {},
     "output_type": "display_data"
    },
    {
     "data": {
      "text/html": [
       "uploading output.log (0.0s)"
      ],
      "text/plain": [
       "<IPython.core.display.HTML object>"
      ]
     },
     "metadata": {},
     "output_type": "display_data"
    },
    {
     "data": {
      "text/html": [
       "uploading output.log (0.0s)"
      ],
      "text/plain": [
       "<IPython.core.display.HTML object>"
      ]
     },
     "metadata": {},
     "output_type": "display_data"
    },
    {
     "data": {
      "text/html": [
       "uploading output.log (0.0s)"
      ],
      "text/plain": [
       "<IPython.core.display.HTML object>"
      ]
     },
     "metadata": {},
     "output_type": "display_data"
    },
    {
     "data": {
      "text/html": [
       "uploading output.log (0.0s)"
      ],
      "text/plain": [
       "<IPython.core.display.HTML object>"
      ]
     },
     "metadata": {},
     "output_type": "display_data"
    },
    {
     "data": {
      "text/html": [
       "uploading output.log 8.9KB/8.9KB (1.0s)<br>uploading wandb-summary.json 26B/26B (1.0s)<br>uploading config.yaml 362B/362B (0.7s)"
      ],
      "text/plain": [
       "<IPython.core.display.HTML object>"
      ]
     },
     "metadata": {},
     "output_type": "display_data"
    },
    {
     "data": {
      "text/html": [
       "uploading output.log 8.9KB/8.9KB (1.0s)<br>uploading wandb-summary.json 26B/26B (1.0s)<br>uploading config.yaml 362B/362B (0.7s)"
      ],
      "text/plain": [
       "<IPython.core.display.HTML object>"
      ]
     },
     "metadata": {},
     "output_type": "display_data"
    },
    {
     "data": {
      "text/html": [
       "uploading output.log 8.9KB/8.9KB (1.0s)<br>uploading wandb-summary.json 26B/26B (1.0s)<br>uploading config.yaml 362B/362B (0.7s)"
      ],
      "text/plain": [
       "<IPython.core.display.HTML object>"
      ]
     },
     "metadata": {},
     "output_type": "display_data"
    },
    {
     "data": {
      "text/html": [
       "uploading output.log 8.9KB/8.9KB (1.0s)<br>uploading wandb-summary.json 26B/26B (1.0s)<br>uploading config.yaml 362B/362B (0.7s)"
      ],
      "text/plain": [
       "<IPython.core.display.HTML object>"
      ]
     },
     "metadata": {},
     "output_type": "display_data"
    },
    {
     "data": {
      "text/html": [
       "uploading output.log 8.9KB/8.9KB (1.0s)<br>uploading wandb-summary.json 26B/26B (1.0s)<br>uploading config.yaml 362B/362B (0.7s)"
      ],
      "text/plain": [
       "<IPython.core.display.HTML object>"
      ]
     },
     "metadata": {},
     "output_type": "display_data"
    },
    {
     "data": {
      "text/html": [
       "uploading output.log 8.9KB/8.9KB (1.0s)<br>uploading wandb-summary.json 26B/26B (1.0s)<br>uploading config.yaml 362B/362B (0.7s)"
      ],
      "text/plain": [
       "<IPython.core.display.HTML object>"
      ]
     },
     "metadata": {},
     "output_type": "display_data"
    },
    {
     "data": {
      "text/html": [],
      "text/plain": [
       "<IPython.core.display.HTML object>"
      ]
     },
     "metadata": {},
     "output_type": "display_data"
    },
    {
     "data": {
      "text/html": [
       " View run <strong style=\"color:#cdcd00\">eager-dust-23</strong> at: <a href='https://wandb.ai/2107301-kca-university/diabetes_decision_tree/runs/5l0toxux' target=\"_blank\">https://wandb.ai/2107301-kca-university/diabetes_decision_tree/runs/5l0toxux</a><br> View project at: <a href='https://wandb.ai/2107301-kca-university/diabetes_decision_tree' target=\"_blank\">https://wandb.ai/2107301-kca-university/diabetes_decision_tree</a><br>Synced 6 W&B file(s), 0 media file(s), 0 artifact file(s) and 0 other file(s)"
      ],
      "text/plain": [
       "<IPython.core.display.HTML object>"
      ]
     },
     "metadata": {},
     "output_type": "display_data"
    },
    {
     "data": {
      "text/html": [
       "Find logs at: <code>.\\wandb\\run-20250621_171216-5l0toxux\\logs</code>"
      ],
      "text/plain": [
       "<IPython.core.display.HTML object>"
      ]
     },
     "metadata": {},
     "output_type": "display_data"
    },
    {
     "data": {
      "text/html": [],
      "text/plain": [
       "<IPython.core.display.HTML object>"
      ]
     },
     "metadata": {},
     "output_type": "display_data"
    },
    {
     "data": {
      "text/html": [
       "creating run (0.2s)"
      ],
      "text/plain": [
       "<IPython.core.display.HTML object>"
      ]
     },
     "metadata": {},
     "output_type": "display_data"
    },
    {
     "data": {
      "text/html": [
       "creating run (0.2s)"
      ],
      "text/plain": [
       "<IPython.core.display.HTML object>"
      ]
     },
     "metadata": {},
     "output_type": "display_data"
    },
    {
     "data": {
      "text/html": [
       "Tracking run with wandb version 0.20.1"
      ],
      "text/plain": [
       "<IPython.core.display.HTML object>"
      ]
     },
     "metadata": {},
     "output_type": "display_data"
    },
    {
     "data": {
      "text/html": [
       "Run data is saved locally in <code>C:\\Users\\Janet\\wandb\\run-20250621_172610-0op5oi24</code>"
      ],
      "text/plain": [
       "<IPython.core.display.HTML object>"
      ]
     },
     "metadata": {},
     "output_type": "display_data"
    },
    {
     "data": {
      "text/html": [
       "Syncing run <strong><a href='https://wandb.ai/2107301-kca-university/diabetes_decision_tree/runs/0op5oi24' target=\"_blank\">grateful-snowball-24</a></strong> to <a href='https://wandb.ai/2107301-kca-university/diabetes_decision_tree' target=\"_blank\">Weights & Biases</a> (<a href='https://wandb.me/developer-guide' target=\"_blank\">docs</a>)<br>"
      ],
      "text/plain": [
       "<IPython.core.display.HTML object>"
      ]
     },
     "metadata": {},
     "output_type": "display_data"
    },
    {
     "data": {
      "text/html": [
       " View project at <a href='https://wandb.ai/2107301-kca-university/diabetes_decision_tree' target=\"_blank\">https://wandb.ai/2107301-kca-university/diabetes_decision_tree</a>"
      ],
      "text/plain": [
       "<IPython.core.display.HTML object>"
      ]
     },
     "metadata": {},
     "output_type": "display_data"
    },
    {
     "data": {
      "text/html": [
       " View run at <a href='https://wandb.ai/2107301-kca-university/diabetes_decision_tree/runs/0op5oi24' target=\"_blank\">https://wandb.ai/2107301-kca-university/diabetes_decision_tree/runs/0op5oi24</a>"
      ],
      "text/plain": [
       "<IPython.core.display.HTML object>"
      ]
     },
     "metadata": {},
     "output_type": "display_data"
    },
    {
     "data": {
      "application/vnd.jupyter.widget-view+json": {
       "model_id": "8778a908705f4307af75699452866ebd",
       "version_major": 2,
       "version_minor": 0
      },
      "text/plain": [
       "Summarize dataset:   0%|          | 0/5 [00:00<?, ?it/s]"
      ]
     },
     "metadata": {},
     "output_type": "display_data"
    },
    {
     "data": {
      "application/vnd.jupyter.widget-view+json": {
       "model_id": "0768eb68d4fa447ca1a8253477c086f9",
       "version_major": 2,
       "version_minor": 0
      },
      "text/plain": [
       "Generate report structure:   0%|          | 0/1 [00:00<?, ?it/s]"
      ]
     },
     "metadata": {},
     "output_type": "display_data"
    },
    {
     "data": {
      "application/vnd.jupyter.widget-view+json": {
       "model_id": "1c375d3974dc49308df8c4aaa23f4445",
       "version_major": 2,
       "version_minor": 0
      },
      "text/plain": [
       "Render HTML:   0%|          | 0/1 [00:00<?, ?it/s]"
      ]
     },
     "metadata": {},
     "output_type": "display_data"
    },
    {
     "data": {
      "application/vnd.jupyter.widget-view+json": {
       "model_id": "2abf5904503f4258866966a181b6eee9",
       "version_major": 2,
       "version_minor": 0
      },
      "text/plain": [
       "Export report to file:   0%|          | 0/1 [00:00<?, ?it/s]"
      ]
     },
     "metadata": {},
     "output_type": "display_data"
    }
   ],
   "source": [
    "import wandb\n",
    "import pandas as pd\n",
    "from ydata_profiling import ProfileReport\n",
    "\n",
    "# Start a run\n",
    "run = wandb.init(project=\"diabetes_decision_tree\", save_code=True)\n",
    "\n",
    "# Download the artifact\n",
    "artifact = run.use_artifact(\"diabetes_decision_tree/raw_data.csv:latest\")\n",
    "artifact_dir = artifact.download()\n",
    "\n",
    "# Read the actual CSV file from the downloaded directory\n",
    "df = pd.read_csv(f\"{artifact_dir}/raw_data.csv\")\n",
    "\n",
    "# Generate the profiling report\n",
    "profile = ProfileReport(df, title=\"Pandas Profiling Report\", explorative=True)\n",
    "profile.to_file(\"diabetes_profile_report.html\")\n",
    "\n",
    "# Finish the run\n",
    "run.finish()"
   ]
  }
 ],
 "metadata": {
  "kernelspec": {
   "display_name": "Python 3",
   "language": "python",
   "name": "python3"
  },
  "language_info": {
   "codemirror_mode": {
    "name": "ipython",
    "version": 3
   },
   "file_extension": ".py",
   "mimetype": "text/x-python",
   "name": "python",
   "nbconvert_exporter": "python",
   "pygments_lexer": "ipython3",
   "version": "3.12.7"
  }
 },
 "nbformat": 4,
 "nbformat_minor": 5
}
